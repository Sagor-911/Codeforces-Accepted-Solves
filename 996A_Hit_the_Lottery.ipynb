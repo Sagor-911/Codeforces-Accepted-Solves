{
  "nbformat": 4,
  "nbformat_minor": 0,
  "metadata": {
    "colab": {
      "provenance": []
    },
    "kernelspec": {
      "name": "python3",
      "display_name": "Python 3"
    },
    "language_info": {
      "name": "python"
    }
  },
  "cells": [
    {
      "cell_type": "markdown",
      "source": [
        "Allen has a LOT of money. He has n\n",
        " dollars in the bank. For security reasons, he wants to withdraw it in cash (we will not disclose the reasons here). The denominations for dollar bills are 1\n",
        ", 5\n",
        ", 10\n",
        ", 20\n",
        ", 100\n",
        ". What is the minimum number of bills Allen could receive after withdrawing his entire balance?\n",
        "\n",
        "**Input**\n",
        "\n",
        "The first and only line of input contains a single integer n\n",
        " (1≤n≤10^9\n",
        ").\n",
        "\n",
        "**Output**\n",
        "\n",
        "Output the minimum number of bills that Allen could receive."
      ],
      "metadata": {
        "id": "jjlvaXHtSpQf"
      }
    },
    {
      "cell_type": "code",
      "source": [
        "n = int(input())\n",
        "\n",
        "count = 0\n",
        "\n",
        "if n >= 100:\n",
        "  count += n//100\n",
        "  n -= (n//100)*100\n",
        "\n",
        "\n",
        "if n >= 20:\n",
        "  count += n//20\n",
        "  n -= (n//20)*20\n",
        "\n",
        "\n",
        "if n >= 10:\n",
        "  count += n//10\n",
        "  n -= (n//10)*10\n",
        "\n",
        "\n",
        "if n >= 5:\n",
        "  count += n//5\n",
        "  n -= (n//5)*5\n",
        "\n",
        "\n",
        "if n >= 1:\n",
        "  count += n\n",
        "  n -= n\n",
        "\n",
        "\n",
        "print(count)"
      ],
      "metadata": {
        "colab": {
          "base_uri": "https://localhost:8080/"
        },
        "id": "UXKG_hwhmm_d",
        "outputId": "b756124f-2c66-4bcd-a7b2-a71b823c1e9d"
      },
      "execution_count": 31,
      "outputs": [
        {
          "output_type": "stream",
          "name": "stdout",
          "text": [
            "74\n",
            "8\n"
          ]
        }
      ]
    }
  ]
}