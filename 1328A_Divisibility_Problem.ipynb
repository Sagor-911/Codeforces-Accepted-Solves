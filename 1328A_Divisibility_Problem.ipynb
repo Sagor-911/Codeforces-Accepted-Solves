{
  "nbformat": 4,
  "nbformat_minor": 0,
  "metadata": {
    "colab": {
      "provenance": []
    },
    "kernelspec": {
      "name": "python3",
      "display_name": "Python 3"
    },
    "language_info": {
      "name": "python"
    }
  },
  "cells": [
    {
      "cell_type": "markdown",
      "source": [
        "You are given two positive integers a\n",
        " and b\n",
        ". In one move you can increase a\n",
        " by 1\n",
        " (replace a\n",
        " with a+1\n",
        "). Your task is to find the minimum number of moves you need to do in order to make a\n",
        " divisible by b\n",
        ". It is possible, that you have to make 0\n",
        " moves, as a\n",
        " is already divisible by b\n",
        ". You have to answer t\n",
        " independent test cases.\n",
        "\n",
        "**Input**\n",
        "\n",
        "The first line of the input contains one integer t\n",
        " (1≤t≤104\n",
        ") — the number of test cases. Then t\n",
        " test cases follow.\n",
        "\n",
        "The only line of the test case contains two integers a\n",
        " and b\n",
        " (1≤a,b≤109\n",
        ").\n",
        "\n",
        "**Output**\n",
        "\n",
        "For each test case print the answer — the minimum number of moves you need to do in order to make a\n",
        " divisible by b\n",
        "."
      ],
      "metadata": {
        "id": "jjlvaXHtSpQf"
      }
    },
    {
      "cell_type": "code",
      "execution_count": 11,
      "metadata": {
        "colab": {
          "base_uri": "https://localhost:8080/"
        },
        "id": "KyF9jjNvSiNb",
        "outputId": "7b8c6142-0d56-4789-c2ab-ae729880dfe9"
      },
      "outputs": [
        {
          "output_type": "stream",
          "name": "stdout",
          "text": [
            "1\n",
            "123 456\n",
            "333\n"
          ]
        }
      ],
      "source": [
        "t = int(input())\n",
        "\n",
        "for i in range(t):\n",
        "  a, b = map(int, input().split())\n",
        "  if a % b == 0:\n",
        "      print(0)\n",
        "  else:\n",
        "    print(b - (a%b))\n",
        "\n"
      ]
    }
  ]
}