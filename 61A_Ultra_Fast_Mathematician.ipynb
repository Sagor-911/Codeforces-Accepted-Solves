{
  "nbformat": 4,
  "nbformat_minor": 0,
  "metadata": {
    "colab": {
      "provenance": []
    },
    "kernelspec": {
      "name": "python3",
      "display_name": "Python 3"
    },
    "language_info": {
      "name": "python"
    }
  },
  "cells": [
    {
      "cell_type": "markdown",
      "source": [
        "Shapur was an extremely gifted student. He was great at everything including Combinatorics, Algebra, Number Theory, Geometry, Calculus, etc. He was not only smart but extraordinarily fast! He could manage to sum 1018 numbers in a single second.\n",
        "\n",
        "\n",
        "One day in 230 AD Shapur was trying to find out if any one can possibly do calculations faster than him. As a result he made a very great contest and asked every one to come and take part.\n",
        "\n",
        "\n",
        "In his contest he gave the contestants many different pairs of numbers. Each number is made from digits 0 or 1. The contestants should write a new number corresponding to the given pair of numbers. The rule is simple: The i-th digit of the answer is 1 if and only if the i-th digit of the two given numbers differ. In the other case the i-th digit of the answer is 0.\n",
        "\n",
        "\n",
        "Shapur made many numbers and first tried his own speed. He saw that he can perform these operations on numbers of length ∞ (length of a number is number of digits in it) in a glance! He always gives correct answers so he expects the contestants to give correct answers, too. He is a good fellow so he won't give anyone very big numbers and he always gives one person numbers of same length.\n",
        "\n",
        "\n",
        "Now you are going to take part in Shapur's contest. See if you are faster and more accurate.\n",
        "\n",
        "\n",
        "**Input**\n",
        "\n",
        "There are two lines in each input. Each of them contains a single number. It is guaranteed that the numbers are made from 0 and 1 only and that their length is same. The numbers may start with 0. The length of each number doesn't exceed 100.\n",
        "\n",
        "**Output**\n",
        "\n",
        "Write one line — the corresponding answer. Do not omit the leading 0s.\n",
        "\n"
      ],
      "metadata": {
        "id": "jjlvaXHtSpQf"
      }
    },
    {
      "cell_type": "code",
      "execution_count": 3,
      "metadata": {
        "colab": {
          "base_uri": "https://localhost:8080/"
        },
        "id": "KyF9jjNvSiNb",
        "outputId": "0fd34270-27b8-40cf-9b12-184501006015"
      },
      "outputs": [
        {
          "output_type": "stream",
          "name": "stdout",
          "text": [
            "110110\n",
            "111011\n",
            "001101\n"
          ]
        }
      ],
      "source": [
        "number1 = input()\n",
        "number2 = input()\n",
        "\n",
        "result = \"\"\n",
        "\n",
        "for i in range(len(number1)):\n",
        "  if number1[i] == number2[i]:\n",
        "    result += \"0\"\n",
        "  else:\n",
        "    result += \"1\"\n",
        "\n",
        "print(result)"
      ]
    }
  ]
}