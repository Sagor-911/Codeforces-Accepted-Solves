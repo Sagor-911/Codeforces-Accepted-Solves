{
  "nbformat": 4,
  "nbformat_minor": 0,
  "metadata": {
    "colab": {
      "provenance": [],
      "collapsed_sections": [
        "tb8_cm_97dVR",
        "XZuM0tTaGp50",
        "q5Z2Ql-qwgaP",
        "ga8UORM90OXi",
        "or-YdjVn3YVQ",
        "mpiGmlQmAvHT",
        "ZQpScs99D9Pl",
        "I9GS5SHEL7QO",
        "E35v_3a1KA4n",
        "T3a2jympQJoi",
        "9ycFXvaNrsFK",
        "UHmHntyJuxxZ",
        "Z_ux3p-c_ItU",
        "0wmIouEOS9Lg",
        "XyzG3HlSUL_f",
        "EfyVejEiXSCH",
        "J_9kJdBKH5NN",
        "-0lMSZeUJ7TR",
        "IGtJvuCnLi0M",
        "aGyXwWjJNNYc",
        "IERkE1iwHIKI"
      ]
    },
    "kernelspec": {
      "name": "python3",
      "display_name": "Python 3"
    },
    "language_info": {
      "name": "python"
    }
  },
  "cells": [
    {
      "cell_type": "markdown",
      "source": [
        "One hot summer day Pete and his friend Billy decided to buy a watermelon. They chose the biggest and the ripest one, in their opinion. After that the watermelon was weighed, and the scales showed w kilos. They rushed home, dying of thirst, and decided to divide the berry, however they faced a hard problem.\n",
        "\n",
        "Pete and Billy are great fans of even numbers, that's why they want to divide the watermelon in such a way that each of the two parts weighs even number of kilos, at the same time it is not obligatory that the parts are equal. The boys are extremely tired and want to start their meal as soon as possible, that's why you should help them and find out, if they can divide the watermelon in the way they want. For sure, each of them should get a part of positive weight.\n",
        "\n",
        "**Input:**\n",
        "\n",
        "The first (and the only) input line contains integer number w (1 ≤ w ≤ 100) — the weight of the watermelon bought by the boys.\n",
        "\n",
        "**Output:**\n",
        "\n",
        "Print YES, if the boys can divide the watermelon into two parts, each of them weighing even number of kilos; and NO in the opposite case.\n",
        "\n"
      ],
      "metadata": {
        "id": "rBAzrRsw8Ism"
      }
    },
    {
      "cell_type": "code",
      "execution_count": null,
      "metadata": {
        "colab": {
          "base_uri": "https://localhost:8080/"
        },
        "id": "5dG4-agl1ISE",
        "outputId": "3998c16e-64cb-4242-e18b-6654eba7d1be"
      },
      "outputs": [
        {
          "output_type": "stream",
          "name": "stdout",
          "text": [
            "4\n",
            "YES\n"
          ]
        }
      ],
      "source": [
        "w = int(input())\n",
        "\n",
        "if 0 < w <= 100:\n",
        "  if w % 2 == 0 and w > 3:\n",
        "    print(\"YES\")\n",
        "  else:\n",
        "    print(\"NO\")"
      ]
    },
    {
      "cell_type": "markdown",
      "source": [
        "Sometimes some words like \"localization\" or \"internationalization\" are so long that writing them many times in one text is quite tiresome.\n",
        "\n",
        "Let's consider a word too long, if its length is strictly more than 10 characters. All too long words should be replaced with a special abbreviation.\n",
        "\n",
        "This abbreviation is made like this: we write down the first and the last letter of a word and between them we write the number of letters between the first and the last letters. That number is in decimal system and doesn't contain any leading zeroes.\n",
        "\n",
        "Thus, \"localization\" will be spelt as \"l10n\", and \"internationalization» will be spelt as \"i18n\".\n",
        "\n",
        "You are suggested to automatize the process of changing the words with abbreviations. At that all too long words should be replaced by the abbreviation and the words that are not too long should not undergo any changes.\n",
        "\n",
        "**Input**\n",
        "\n",
        "The first line contains an integer n (1 ≤ n ≤ 100). Each of the following n lines contains one word. All the words consist of lowercase Latin letters and possess the lengths of from 1 to 100 characters.\n",
        "\n",
        "**Output**\n",
        "\n",
        "Print n lines. The i-th line should contain the result of replacing of the i-th word from the input data.\n",
        "\n"
      ],
      "metadata": {
        "id": "ITeo7axc8ruf"
      }
    },
    {
      "cell_type": "code",
      "source": [
        "n = int(input())\n",
        "\n",
        "for i in range(n):\n",
        "  word = input()\n",
        "  if len(word) > 10:\n",
        "    a = word[0] + str(len(word) - 2) + word[-1]\n",
        "    print(a)\n",
        "  else:\n",
        "    print(word)"
      ],
      "metadata": {
        "colab": {
          "base_uri": "https://localhost:8080/"
        },
        "id": "tFsdGXRS88cm",
        "outputId": "1bc71a3c-43d6-47ec-c599-9e3308c1d861"
      },
      "execution_count": null,
      "outputs": [
        {
          "output_type": "stream",
          "name": "stdout",
          "text": [
            "4\n",
            "word\n",
            "word\n",
            "international\n",
            "i11l\n",
            "internationalization\n",
            "i18n\n",
            "pneumonoultramicroscopicsilicovolcanoconiosis\n",
            "p43s\n"
          ]
        }
      ]
    },
    {
      "cell_type": "code",
      "source": [
        "n = int(input())\n",
        "s = \"\"\n",
        "for i in range(n):\n",
        "  word = input()\n",
        "  if len(word) > 10:\n",
        "    a = word[0] + str(len(word) - 2) + word[-1]\n",
        "    s += a + \"\\n\"\n",
        "  else:\n",
        "    s += word + \"\\n\"\n",
        "print(s.strip())\n"
      ],
      "metadata": {
        "colab": {
          "base_uri": "https://localhost:8080/"
        },
        "id": "Ehpyt3J2YELY",
        "outputId": "bca76418-2519-4d29-a6ca-d6f670fdf67f"
      },
      "execution_count": null,
      "outputs": [
        {
          "output_type": "stream",
          "name": "stdout",
          "text": [
            "4\n",
            "word\n",
            "international\n",
            "internationalization\n",
            "pneumonoultramicroscopicsilicovolcanoconiosis\n",
            "word\n",
            "i11l\n",
            "i18n\n",
            "p43s\n"
          ]
        }
      ]
    },
    {
      "cell_type": "markdown",
      "source": [
        "One day three best friends Petya, Vasya and Tonya decided to form a team and take part in programming contests. Participants are usually offered several problems during programming contests. Long before the start the friends decided that they will implement a problem if at least two of them are sure about the solution. Otherwise, the friends won't write the problem's solution.\n",
        "\n",
        "This contest offers n problems to the participants. For each problem we know, which friend is sure about the solution. Help the friends find the number of problems for which they will write a solution.\n",
        "\n",
        "**Input**\n",
        "\n",
        "The first input line contains a single integer n (1 ≤ n ≤ 1000) — the number of problems in the contest. Then n lines contain three integers each, each integer is either 0 or 1. If the first number in the line equals 1, then Petya is sure about the problem's solution, otherwise he isn't sure. The second number shows Vasya's view on the solution, the third number shows Tonya's view. The numbers on the lines are separated by spaces.\n",
        "\n",
        "**Output**\n",
        "\n",
        "Print a single integer — the number of problems the friends will implement on the contest."
      ],
      "metadata": {
        "id": "pYGmiehWxf3K"
      }
    },
    {
      "cell_type": "code",
      "source": [
        "n = int(input())\n",
        "total = 0\n",
        "for i in range(n):\n",
        "    p = input()\n",
        "    s = p.count(\"1\")\n",
        "    if s >= 2:\n",
        "        total += 1\n",
        "print(total)\n"
      ],
      "metadata": {
        "colab": {
          "base_uri": "https://localhost:8080/"
        },
        "id": "-AcWho1mvZpN",
        "outputId": "2ba20142-be0a-4955-9c10-579e63f9a7e4"
      },
      "execution_count": null,
      "outputs": [
        {
          "output_type": "stream",
          "name": "stdout",
          "text": [
            "3\n",
            "1 1 0\n",
            "1 1 1\n",
            "1 0 0\n",
            "2\n"
          ]
        }
      ]
    },
    {
      "cell_type": "code",
      "source": [
        "n = int(input())\n",
        "total = 0\n",
        "\n",
        "for i in range(n):\n",
        "  p, v, t = input().split()\n",
        "  t = int(p) + int(v) + int(t)\n",
        "  if t >= 2:\n",
        "    total += 1\n",
        "\n",
        "print(total)"
      ],
      "metadata": {
        "id": "qRsKrJX7f1C9",
        "colab": {
          "base_uri": "https://localhost:8080/"
        },
        "outputId": "2a1d6058-6d24-4a7b-82c2-e6eef9512b72"
      },
      "execution_count": null,
      "outputs": [
        {
          "output_type": "stream",
          "name": "stdout",
          "text": [
            "3\n",
            "1 1 0\n",
            "1 1 1\n",
            "1 0 0\n",
            "2\n"
          ]
        }
      ]
    },
    {
      "cell_type": "markdown",
      "source": [
        "# **Next Round**\n",
        "\n",
        "\"Contestant who earns a score equal to or greater than the k-th place finisher's score will advance to the next round, as long as the contestant earns a positive score...\" — an excerpt from contest rules.\n",
        "\n",
        "A total of n participants took part in the contest (n ≥ k), and you already know their scores. Calculate how many participants will advance to the next round.\n",
        "\n",
        "**Input**\n",
        "\n",
        "The first line of the input contains two integers n and k (1 ≤ k ≤ n ≤ 50) separated by a single space.\n",
        "\n",
        "The second line contains n space-separated integers a1, a2, ..., an (0 ≤ ai ≤ 100), where ai is the score earned by the participant who got the i-th place. The given sequence is non-increasing (that is, for all i from 1 to n - 1 the following condition is fulfilled: ai ≥ ai + 1).\n",
        "\n",
        "**Output**\n",
        "\n",
        "Output the number of participants who advance to the next round.\n",
        "\n"
      ],
      "metadata": {
        "id": "6tM9CGC0bfhf"
      }
    },
    {
      "cell_type": "code",
      "source": [
        "n, k = input().split()\n",
        "n = int(n)\n",
        "k = int(k)\n",
        "s = input().split()\n",
        "total = 0\n",
        "\n",
        "for i in s:\n",
        "  if 0 < int(i) < 100:\n",
        "    if int(i) >= int(s[k-1]):\n",
        "      total += 1\n",
        "\n",
        "print(total)"
      ],
      "metadata": {
        "colab": {
          "base_uri": "https://localhost:8080/"
        },
        "id": "wrmd1jPfi8et",
        "outputId": "02ad7607-b1d6-409a-93b5-b310b564ab8d"
      },
      "execution_count": null,
      "outputs": [
        {
          "output_type": "stream",
          "name": "stdout",
          "text": [
            "8 5\n",
            "10 9 8 7 7 7 5 5\n",
            "6\n"
          ]
        }
      ]
    },
    {
      "cell_type": "code",
      "source": [
        "n, k = map(int, input().split())\n",
        "a = list(map(int, input().split()))\n",
        "total = 0\n",
        "\n",
        "for i in range(0, n):\n",
        "  if a[k-1] == 0 and a[i] == a[k-1]:\n",
        "    total = 0\n",
        "  elif a[i] >= a[k-1]:\n",
        "    total += 1\n",
        "  else:\n",
        "    total += 0\n",
        "\n",
        "print(total)\n",
        "\n"
      ],
      "metadata": {
        "colab": {
          "base_uri": "https://localhost:8080/"
        },
        "id": "jEmkH0Mnqb_0",
        "outputId": "1b9632ba-d281-4214-b382-5cee71554b4b"
      },
      "execution_count": null,
      "outputs": [
        {
          "output_type": "stream",
          "name": "stdout",
          "text": [
            "4 2\n",
            "0 0 0 0\n",
            "0\n"
          ]
        }
      ]
    },
    {
      "cell_type": "markdown",
      "source": [
        "# **Domino piling**\n",
        "\n",
        "You are given a rectangular board of M × N squares. Also you are given an unlimited number of standard domino pieces of 2 × 1 squares. You are allowed to rotate the pieces. You are asked to place as many dominoes as possible on the board so as to meet the following conditions:\n",
        "\n",
        "1. Each domino completely covers two squares.\n",
        "\n",
        "2. No two dominoes overlap.\n",
        "\n",
        "3. Each domino lies entirely inside the board. It is allowed to touch the edges of the board.\n",
        "\n",
        "Find the maximum number of dominoes, which can be placed under these restrictions.\n",
        "\n",
        "**Input**\n",
        "\n",
        "In a single line you are given two integers M and N — board sizes in squares (1 ≤ M ≤ N ≤ 16).\n",
        "\n",
        "**Output**\n",
        "\n",
        "Output one number — the maximal number of dominoes, which can be placed."
      ],
      "metadata": {
        "id": "B-eR6His4Ooa"
      }
    },
    {
      "cell_type": "code",
      "source": [
        "m, n = map(int, input().split())\n",
        "\n",
        "if 0 < m <= 16:\n",
        "  if m <= n:\n",
        "    s = m * n\n",
        "    d = s // 2\n",
        "    print(d)"
      ],
      "metadata": {
        "id": "El1p06jLrkh2",
        "colab": {
          "base_uri": "https://localhost:8080/"
        },
        "outputId": "345d6115-4890-4256-8d94-9e7957091c68"
      },
      "execution_count": null,
      "outputs": [
        {
          "output_type": "stream",
          "name": "stdout",
          "text": [
            "3 3\n",
            "4\n"
          ]
        }
      ]
    },
    {
      "cell_type": "markdown",
      "source": [
        "# **Bit++**\n",
        "\n",
        "The classic programming language of Bitland is Bit++. This language is so peculiar and complicated.\n",
        "\n",
        "The language is that peculiar as it has exactly one variable, called x. Also, there are two operations:\n",
        "\n",
        "Operation ++ increases the value of variable x by 1.\n",
        "Operation -- decreases the value of variable x by 1.\n",
        "A statement in language Bit++ is a sequence, consisting of exactly one operation and one variable x. The statement is written without spaces, that is, it can only contain characters \"+\", \"-\", \"X\". Executing a statement means applying the operation it contains.\n",
        "\n",
        "A programme in Bit++ is a sequence of statements, each of them needs to be executed. Executing a programme means executing all the statements it contains.\n",
        "\n",
        "You're given a programme in language Bit++. The initial value of x is 0. Execute the programme and find its final value (the value of the variable when this programme is executed).\n",
        "\n",
        "**Input**\n",
        "\n",
        "The first line contains a single integer n (1 ≤ n ≤ 150) — the number of statements in the programme.\n",
        "\n",
        "Next n lines contain a statement each. Each statement contains exactly one operation (++ or --) and exactly one variable x (denoted as letter «X»). Thus, there are no empty statements. The operation and the variable can be written in any order.\n",
        "\n",
        "**Output**\n",
        "\n",
        "Print a single integer — the final value of x.\n",
        "\n",
        "\n"
      ],
      "metadata": {
        "id": "BhuAZmsZ7haN"
      }
    },
    {
      "cell_type": "code",
      "source": [
        "n = int(input())\n",
        "x = 0\n",
        "if 0 < n <= 150:\n",
        "  for i in range(n):\n",
        "    b = input().upper()\n",
        "    if b == \"++X\" or b == \"X++\":\n",
        "      x += 1\n",
        "    elif b == \"--X\" or b == \"X--\":\n",
        "      x -= 1\n",
        "\n",
        "print(x)"
      ],
      "metadata": {
        "colab": {
          "base_uri": "https://localhost:8080/"
        },
        "id": "I0lzzAeY71yS",
        "outputId": "25c5d8a1-3da8-4b0a-860c-5a84d478c108"
      },
      "execution_count": null,
      "outputs": [
        {
          "output_type": "stream",
          "name": "stdout",
          "text": [
            "2\n",
            "++x\n",
            "x--\n",
            "0\n"
          ]
        }
      ]
    },
    {
      "cell_type": "markdown",
      "source": [
        "# **Beautiful Matrix**\n",
        "\n",
        "You've got a 5 × 5 matrix, consisting of 24 zeroes and a single number one. Let's index the matrix rows by numbers from 1 to 5 from top to bottom, let's index the matrix columns by numbers from 1 to 5 from left to right. In one move, you are allowed to apply one of the two following transformations to the matrix:\n",
        "\n",
        "*   Swap two neighboring matrix rows, that is, rows with indexes i and i + 1 for some integer i (1 ≤ i < 5).\n",
        "*   Swap two neighboring matrix columns, that is, columns with indexes j and j + 1 for some integer j (1 ≤ j < 5).\n",
        "\n",
        "You think that a matrix looks beautiful, if the single number one of the matrix is located in its middle (in the cell that is on the intersection of the third row and the third column). Count the minimum number of moves needed to make the matrix beautiful.\n",
        "\n",
        "**Input**\n",
        "\n",
        "The input consists of five lines, each line contains five integers: the j-th integer in the i-th line of the input represents the element of the matrix that is located on the intersection of the i-th row and the j-th column. It is guaranteed that the matrix consists of 24 zeroes and a single number one.\n",
        "\n",
        "**Output**\n",
        "\n",
        "Print a single integer — the minimum number of moves needed to make the matrix beautiful."
      ],
      "metadata": {
        "id": "tb8_cm_97dVR"
      }
    },
    {
      "cell_type": "code",
      "source": [
        "matrix = []\n",
        "moves = 0\n",
        "for i in range(0, 5):\n",
        "  a = list(map(int, input().split()))\n",
        "  matrix.append(a)\n",
        "\n",
        "for i in range(0, len(matrix)):\n",
        "  for j in range(0, len(matrix)):\n",
        "    if matrix[i][j] == 1:\n",
        "      row = abs(2-i)\n",
        "      col = abs(2-j)\n",
        "      moves = row + col\n",
        "\n",
        "print(moves)"
      ],
      "metadata": {
        "id": "LTPpBW_M7klk"
      },
      "execution_count": null,
      "outputs": []
    },
    {
      "cell_type": "markdown",
      "source": [
        "# **Petya and Strings**\n",
        "\n",
        "Little Petya loves presents. His mum bought him two strings of the same size for his birthday. The strings consist of uppercase and lowercase Latin letters. Now Petya wants to compare those two strings lexicographically. The letters' case does not matter, that is an uppercase letter is considered equivalent to the corresponding lowercase letter. Help Petya perform the comparison.\n",
        "\n",
        "**Input**\n",
        "\n",
        "Each of the first two lines contains a bought string. The strings' lengths range from 1 to 100 inclusive. It is guaranteed that the strings are of the same length and also consist of uppercase and lowercase Latin letters.\n",
        "\n",
        "**Output**\n",
        "\n",
        "If the first string is less than the second one, print \"-1\". If the second string is less than the first one, print \"1\". If the strings are equal, print \"0\". Note that the letters' case is not taken into consideration when the strings are compared.\n",
        "\n"
      ],
      "metadata": {
        "id": "XZuM0tTaGp50"
      }
    },
    {
      "cell_type": "code",
      "source": [
        "str1 = input().lower()\n",
        "str2 = input().lower()\n",
        "temp = 0\n",
        "\n",
        "for i in range(0, len(str1)):\n",
        "  if ord(str1[i]) == ord(str2[i]):\n",
        "    temp = 0\n",
        "  elif ord(str1[i]) < ord(str2[i]):\n",
        "    temp = -1\n",
        "  elif ord(str1[i]) > ord(str2[i]):\n",
        "    temp = 1\n",
        "    break\n",
        "\n",
        "print(temp)"
      ],
      "metadata": {
        "colab": {
          "base_uri": "https://localhost:8080/"
        },
        "id": "KQ07wzJCGo8T",
        "outputId": "2c430b73-6038-4873-8b53-d9f7b9b734de"
      },
      "execution_count": null,
      "outputs": [
        {
          "output_type": "stream",
          "name": "stdout",
          "text": [
            "avs\n",
            "aas\n",
            "1\n"
          ]
        }
      ]
    },
    {
      "cell_type": "markdown",
      "source": [
        "# **Helpful Maths**\n",
        "\n",
        "Xenia the beginner mathematician is a third year student at elementary school. She is now learning the addition operation.\n",
        "\n",
        "The teacher has written down the sum of multiple numbers. Pupils should calculate the sum. To make the calculation easier, the sum only contains numbers 1, 2 and 3. Still, that isn't enough for Xenia. She is only beginning to count, so she can calculate a sum only if the summands follow in non-decreasing order. For example, she can't calculate sum 1+3+2+1 but she can calculate sums 1+1+2 and 3+3.\n",
        "\n",
        "You've got the sum that was written on the board. Rearrange the summans and print the sum in such a way that Xenia can calculate the sum.\n",
        "\n",
        "**Input**\n",
        "\n",
        "The first line contains a non-empty string s — the sum Xenia needs to count. String s contains no spaces. It only contains digits and characters \"+\". Besides, string s is a correct sum of numbers 1, 2 and 3. String s is at most 100 characters long.\n",
        "\n",
        "**Output**\n",
        "\n",
        "Print the new sum that Xenia can count."
      ],
      "metadata": {
        "id": "q5Z2Ql-qwgaP"
      }
    },
    {
      "cell_type": "code",
      "source": [
        "var = input().split(\"+\")\n",
        "s = sorted(var)\n",
        "st = \"\"\n",
        "\n",
        "for i in s:\n",
        "  st += i + \"+\"\n",
        "\n",
        "print(st[0:-1])"
      ],
      "metadata": {
        "colab": {
          "base_uri": "https://localhost:8080/"
        },
        "id": "86hSGAOfwsIv",
        "outputId": "efd99219-f51d-40f7-80a0-23df149dbccd"
      },
      "execution_count": null,
      "outputs": [
        {
          "output_type": "stream",
          "name": "stdout",
          "text": [
            "1+2+3+2+1+1+2\n",
            "1+1+1+2+2+2+3\n"
          ]
        }
      ]
    },
    {
      "cell_type": "markdown",
      "source": [
        "# **Word Capitalization**\n",
        "\n",
        "Capitalization is writing a word with its first letter as a capital letter. Your task is to capitalize the given word.\n",
        "\n",
        "Note, that during capitalization all the letters except the first one remains unchanged.\n",
        "\n",
        "**Input**\n",
        "\n",
        "A single line contains a non-empty word. This word consists of lowercase and uppercase English letters. The length of the word will not exceed 103.\n",
        "\n",
        "**Output**\n",
        "\n",
        "Output the given word after capitalization.\n",
        "\n"
      ],
      "metadata": {
        "id": "ga8UORM90OXi"
      }
    },
    {
      "cell_type": "code",
      "source": [
        "word = input()\n",
        "letters = [\"A\", \"B\", \"C\", \"D\", \"E\", \"F\", \"G\", \"H\", \"I\", \"J\", \"K\", \"L\", \"M\", \"N\", \"O\", \"P\", \"Q\", \"R\", \"S\", \"T\", \"U\", \"V\", \"W\", \"X\", \"Y\", \"Z\"]\n",
        "\n",
        "if word[0] not in letters:\n",
        "  w = ord(word[0]) - 32\n",
        "  w2 = chr(w) + word[1:]\n",
        "  print(w2)\n",
        "else:\n",
        "  print(word)"
      ],
      "metadata": {
        "colab": {
          "base_uri": "https://localhost:8080/"
        },
        "id": "PbEYlwhc0fNa",
        "outputId": "fbf0c43d-8b7d-4892-8125-8244e8f3e3d0"
      },
      "execution_count": null,
      "outputs": [
        {
          "output_type": "stream",
          "name": "stdout",
          "text": [
            "konjac\n",
            "Konjac\n"
          ]
        }
      ]
    },
    {
      "cell_type": "markdown",
      "source": [
        "# **Boy or Girl**\n",
        "\n",
        "Those days, many boys use beautiful girls' photos as avatars in forums. So it is pretty hard to tell the gender of a user at the first glance. Last year, our hero went to a forum and had a nice chat with a beauty (he thought so). After that they talked very often and eventually they became a couple in the network.\n",
        "\n",
        "But yesterday, he came to see \"her\" in the real world and found out \"she\" is actually a very strong man! Our hero is very sad and he is too tired to love again now. So he came up with a way to recognize users' genders by their user names.\n",
        "\n",
        "This is his method: if the number of distinct characters in one's user name is odd, then he is a male, otherwise she is a female. You are given the string that denotes the user name, please help our hero to determine the gender of this user by his method.\n",
        "\n",
        "**Input**\n",
        "\n",
        "The first line contains a non-empty string, that contains only lowercase English letters — the user name. This string contains at most 100 letters.\n",
        "\n",
        "**Output**\n",
        "\n",
        "If it is a female by our hero's method, print \"CHAT WITH HER!\" (without the quotes), otherwise, print \"IGNORE HIM!\" (without the quotes).\n",
        "\n"
      ],
      "metadata": {
        "id": "or-YdjVn3YVQ"
      }
    },
    {
      "cell_type": "code",
      "source": [
        "username = input()\n",
        "name = \"\"\n",
        "\n",
        "for i in username:\n",
        "  if i not in name:\n",
        "    name += i\n",
        "\n",
        "if len(name) % 2 == 0:\n",
        "  print(\"CHAT WITH HER!\")\n",
        "else:\n",
        "  print(\"IGNORE HIM!\")\n"
      ],
      "metadata": {
        "colab": {
          "base_uri": "https://localhost:8080/"
        },
        "id": "y9CT8K953dY8",
        "outputId": "440c4df1-e056-4d29-d176-9a1791974a1a"
      },
      "execution_count": null,
      "outputs": [
        {
          "output_type": "stream",
          "name": "stdout",
          "text": [
            "sevenkplus\n",
            "CHAT WITH HER!\n"
          ]
        }
      ]
    },
    {
      "cell_type": "markdown",
      "source": [
        "# **Stones on the Table**\n",
        "\n",
        "There are n stones on the table in a row, each of them can be red, green or blue. Count the minimum number of stones to take from the table so that any two neighboring stones had different colors. Stones in a row are considered neighboring if there are no other stones between them.\n",
        "\n",
        "**Input**\n",
        "\n",
        "The first line contains integer n (1 ≤ n ≤ 50) — the number of stones on the table.\n",
        "\n",
        "The next line contains string s, which represents the colors of the stones. We'll consider the stones in the row numbered from 1 to n from left to right. Then the i-th character s equals \"R\", if the i-th stone is red, \"G\", if it's green and \"B\", if it's blue.\n",
        "\n",
        "**Output**\n",
        "\n",
        "Print a single integer — the answer to the problem."
      ],
      "metadata": {
        "id": "mpiGmlQmAvHT"
      }
    },
    {
      "cell_type": "code",
      "source": [
        "num = int(input())\n",
        "line = input()\n",
        "temp = \"\"\n",
        "num1 = 0\n",
        "\n",
        "for i in line:\n",
        "    if temp == i:\n",
        "        num1 += 1\n",
        "    temp = i\n",
        "\n",
        "print(num1)"
      ],
      "metadata": {
        "colab": {
          "base_uri": "https://localhost:8080/"
        },
        "id": "r6O4DHdbAuxk",
        "outputId": "ad1f6ae3-7ed1-4872-f910-1e6750399b14"
      },
      "execution_count": null,
      "outputs": [
        {
          "output_type": "stream",
          "name": "stdout",
          "text": [
            "4\n",
            "BGBR\n",
            "0\n"
          ]
        }
      ]
    },
    {
      "cell_type": "markdown",
      "source": [
        "# **Bear and Big Brother**\n",
        "\n",
        "Bear Limak wants to become the largest of bears, or at least to become larger than his brother Bob.\n",
        "\n",
        "Right now, Limak and Bob weigh a and b respectively. It's guaranteed that Limak's weight is smaller than or equal to his brother's weight.\n",
        "\n",
        "Limak eats a lot and his weight is tripled after every year, while Bob's weight is doubled after every year.\n",
        "\n",
        "After how many full years will Limak become strictly larger (strictly heavier) than Bob?\n",
        "\n",
        "**Input**\n",
        "\n",
        "The only line of the input contains two integers a and b (1 ≤ a ≤ b ≤ 10) — the weight of Limak and the weight of Bob respectively.\n",
        "\n",
        "**Output**\n",
        "\n",
        "Print one integer, denoting the integer number of years after which Limak will become strictly larger than Bob."
      ],
      "metadata": {
        "id": "ZQpScs99D9Pl"
      }
    },
    {
      "cell_type": "code",
      "source": [
        "a, b = map(int, input().split())\n",
        "year = 0\n",
        "\n",
        "while True:\n",
        "    a *= 3\n",
        "    b *= 2\n",
        "    year += 1\n",
        "    if a > b:\n",
        "        break\n",
        "\n",
        "print(year)\n"
      ],
      "metadata": {
        "colab": {
          "base_uri": "https://localhost:8080/"
        },
        "id": "HoGbbD2jEFJU",
        "outputId": "02e1ffe2-45f6-4d18-9fca-a332b25783d6"
      },
      "execution_count": null,
      "outputs": [
        {
          "output_type": "stream",
          "name": "stdout",
          "text": [
            "4 7\n",
            "2\n"
          ]
        }
      ]
    },
    {
      "cell_type": "markdown",
      "source": [
        "# **Soldier and Bananas**\n",
        "\n",
        "A soldier wants to buy w bananas in the shop. He has to pay k dollars for the first banana, 2k dollars for the second one and so on (in other words, he has to pay i·k dollars for the i-th banana).\n",
        "\n",
        "He has n dollars. How many dollars does he have to borrow from his friend soldier to buy w bananas?\n",
        "\n",
        "**Input**\n",
        "\n",
        "The first line contains three positive integers k, n, w (1  ≤  k, w  ≤  1000, 0 ≤ n ≤ 109), the cost of the first banana, initial number of dollars the soldier has and number of bananas he wants.\n",
        "\n",
        "**Output**\n",
        "\n",
        "Output one integer — the amount of dollars that the soldier must borrow from his friend. If he doesn't have to borrow money, output 0."
      ],
      "metadata": {
        "id": "I9GS5SHEL7QO"
      }
    },
    {
      "cell_type": "code",
      "source": [
        "k, n, w = map(int, input().split())\n",
        "total = 0\n",
        "\n",
        "for i in range(1, w+1):\n",
        "    total += i * k\n",
        "\n",
        "if total - n < 0:\n",
        "    print(\"0\")\n",
        "else:\n",
        "    print(total - n)"
      ],
      "metadata": {
        "colab": {
          "base_uri": "https://localhost:8080/"
        },
        "id": "2cGTgn0gMCB1",
        "outputId": "c5d5052f-3c4c-44ab-f526-25f4a9b8aedb"
      },
      "execution_count": null,
      "outputs": [
        {
          "output_type": "stream",
          "name": "stdout",
          "text": [
            "3 17 4\n",
            "13\n"
          ]
        }
      ]
    },
    {
      "cell_type": "code",
      "source": [
        "k, n, w = map(int, input().split())\n",
        "total = k * w * ((w + 1) / 2)\n",
        "\n",
        "if int(total) - n < 0:\n",
        "  print(\"0\")\n",
        "else:\n",
        "  print(int(total) - n)"
      ],
      "metadata": {
        "colab": {
          "base_uri": "https://localhost:8080/"
        },
        "id": "rX4zfPA1MFD1",
        "outputId": "d8bdf429-65f1-48a8-9dc4-5993aa374560"
      },
      "execution_count": null,
      "outputs": [
        {
          "output_type": "stream",
          "name": "stdout",
          "text": [
            "3 50 16\n",
            "358\n"
          ]
        }
      ]
    },
    {
      "cell_type": "markdown",
      "source": [
        "# **Elephant**\n",
        "\n",
        "An elephant decided to visit his friend. It turned out that the elephant's house is located at point 0 and his friend's house is located at point x(x > 0) of the coordinate line. In one step the elephant can move 1, 2, 3, 4 or 5 positions forward. Determine, what is the minimum number of steps he need to make in order to get to his friend's house.\n",
        "\n",
        "**Input**\n",
        "\n",
        "\n",
        "The first line of the input contains an integer x (1 ≤ x ≤ 1 000 000) — The coordinate of the friend's house.\n",
        "\n",
        "**Output**\n",
        "\n",
        "\n",
        "Print the minimum number of steps that elephant needs to make to get from point 0 to point x.\n",
        "\n"
      ],
      "metadata": {
        "id": "E35v_3a1KA4n"
      }
    },
    {
      "cell_type": "code",
      "source": [
        "house = int(input())\n",
        "steps = []\n",
        "\n",
        "for i in range(1, 6):\n",
        "  step = house // i\n",
        "  if house % i == 0:\n",
        "    steps.append(step)\n",
        "  else:\n",
        "    steps.append(step + 1)\n",
        "\n",
        "steps.reverse()\n",
        "print(steps[0])"
      ],
      "metadata": {
        "colab": {
          "base_uri": "https://localhost:8080/"
        },
        "id": "XkxAbx9bKMqB",
        "outputId": "e2c58d32-3330-488d-8ed9-74cb3555bc3f"
      },
      "execution_count": null,
      "outputs": [
        {
          "output_type": "stream",
          "name": "stdout",
          "text": [
            "13\n",
            "3\n"
          ]
        }
      ]
    },
    {
      "cell_type": "markdown",
      "source": [
        "## **Word**\n",
        "\n",
        "Vasya is very upset that many people on the Net mix uppercase and lowercase letters in one word. That's why he decided to invent an extension for his favorite browser that would change the letters' register in every word so that it either only consisted of lowercase letters or, vice versa, only of uppercase ones. At that as little as possible letters should be changed in the word. For example, the word HoUse must be replaced with house, and the word ViP — with VIP. If a word contains an equal number of uppercase and lowercase letters, you should replace all the letters with lowercase ones. For example, maTRIx should be replaced by matrix. Your task is to use the given method on one given word.\n",
        "\n",
        "**Input**\n",
        "\n",
        "The first line contains a word s — it consists of uppercase and lowercase Latin letters and possesses the length from 1 to 100.\n",
        "\n",
        "**Output**\n",
        "\n",
        "Print the corrected word s. If the given word s has strictly more uppercase letters, make the word written in the uppercase register, otherwise - in the lowercase one."
      ],
      "metadata": {
        "id": "T3a2jympQJoi"
      }
    },
    {
      "cell_type": "code",
      "source": [
        "word = input()\n",
        "up = 0\n",
        "low = 0\n",
        "\n",
        "for l in word:\n",
        "  if 65 <= ord(l) <= 90:\n",
        "    up += 1\n",
        "  elif 97 <= ord(l) <= 122:\n",
        "    low += 1\n",
        "\n",
        "if up > low:\n",
        "  print(word.upper())\n",
        "elif up < low:\n",
        "  print(word.lower())\n",
        "else:\n",
        "  print(word.lower())\n"
      ],
      "metadata": {
        "colab": {
          "base_uri": "https://localhost:8080/"
        },
        "id": "QSUuVkIVQSCn",
        "outputId": "e826cbcc-5377-498f-a801-82121be92927"
      },
      "execution_count": null,
      "outputs": [
        {
          "output_type": "stream",
          "name": "stdout",
          "text": [
            "ViP\n",
            "VIP\n"
          ]
        }
      ]
    },
    {
      "cell_type": "markdown",
      "source": [
        "# **Wrong Subtraction**\n",
        "\n",
        "Little girl Tanya is learning how to decrease a number by one, but she does it wrong with a number consisting of two or more digits. Tanya subtracts one from a number by the following algorithm:\n",
        "\n",
        "if the last digit of the number is zero, she divides the number by 10 (i.e. removes the last digit).\n",
        "\n",
        "*   if the last digit of the number is non-zero, she decreases the number by one;\n",
        "*   if the last digit of the number is zero, she divides the number by 10 (i.e. removes the last digit).\n",
        "\n",
        "\n",
        "You are given an integer number n. Tanya will subtract one from it k times. Your task is to print the result after all k subtractions.\n",
        "It is guaranteed that the result will be positive integer number.\n",
        "\n",
        "**Input**\n",
        "\n",
        "The first line of the input contains two integer numbers n and k (2≤n≤109, 1≤k≤50) — the number from which Tanya will subtract and the number of subtractions correspondingly.\n",
        "\n",
        "**Output**\n",
        "\n",
        "Print one integer number — the result of the decreasing n by one k times.\n",
        "It is guaranteed that the result will be positive integer number.\n",
        "\n",
        "**Note**\n",
        "\n",
        "The first example corresponds to the following sequence: 512→511→510→51→50."
      ],
      "metadata": {
        "id": "9ycFXvaNrsFK"
      }
    },
    {
      "cell_type": "code",
      "source": [
        "n, k = input().split()\n",
        "count = 1\n",
        "result = int(n)\n",
        "\n",
        "while count <= int(k):\n",
        "  if str(result)[-1] == \"0\":\n",
        "    result //= 10\n",
        "  else:\n",
        "    result -= 1\n",
        "  count += 1\n",
        "\n",
        "print(result)\n"
      ],
      "metadata": {
        "colab": {
          "base_uri": "https://localhost:8080/"
        },
        "id": "BQ6BUSSWsHl5",
        "outputId": "c6561bfa-cae7-4bf6-90bd-53f4daef6b99"
      },
      "execution_count": null,
      "outputs": [
        {
          "output_type": "stream",
          "name": "stdout",
          "text": [
            "512 4\n",
            "50\n"
          ]
        }
      ]
    },
    {
      "cell_type": "markdown",
      "source": [
        "# **Nearly Lucky Number**\n",
        "\n",
        "Petya loves lucky numbers. We all know that lucky numbers are the positive integers whose decimal representations contain only the lucky digits 4 and 7. For example, numbers 47, 744, 4 are lucky and 5, 17, 467 are not.\n",
        "\n",
        "Unfortunately, not all numbers are lucky. Petya calls a number nearly lucky if the number of lucky digits in it is a lucky number. He wonders whether number n is a nearly lucky number.\n",
        "\n",
        "**Input**\n",
        "\n",
        "The only line contains an integer n (1 ≤ n ≤ 1018).\n",
        "\n",
        "Please do not use the %lld specificator to read or write 64-bit numbers in С++. It is preferred to use the cin, cout streams or the %I64d specificator.\n",
        "\n",
        "**Output**\n",
        "\n",
        "Print on the single line \"YES\" if n is a nearly lucky number. Otherwise, print \"NO\" (without the quotes).\n",
        "\n",
        "**Note**\n",
        "\n",
        "In the first sample there are 3 lucky digits (first one and last two), so the answer is \"NO\".\n",
        "\n",
        "In the second sample there are 7 lucky digits, 7 is lucky number, so the answer is \"YES\".\n",
        "\n",
        "In the third sample there are no lucky digits, so the answer is \"NO\".\n",
        "\n",
        "\n",
        "\n"
      ],
      "metadata": {
        "id": "UHmHntyJuxxZ"
      }
    },
    {
      "cell_type": "code",
      "source": [
        "num = input()\n",
        "count = 0\n",
        "\n",
        "for i in num:\n",
        "  if i == \"4\" or i == \"7\":\n",
        "    count += 1\n",
        "\n",
        "if count == 4 or count == 7:\n",
        "  print(\"YES\")\n",
        "else:\n",
        "  print(\"NO\")\n"
      ],
      "metadata": {
        "colab": {
          "base_uri": "https://localhost:8080/"
        },
        "id": "PWF8ZLEcu75p",
        "outputId": "bd754f30-8607-4874-b513-cb08aaff5f8e"
      },
      "execution_count": null,
      "outputs": [
        {
          "output_type": "stream",
          "name": "stdout",
          "text": [
            "1000000000000000000\n",
            "NO\n"
          ]
        }
      ]
    },
    {
      "cell_type": "markdown",
      "source": [
        "# **Tram**\n",
        "\n",
        "\n",
        "Linear Kingdom has exactly one tram line. It has n stops, numbered from 1 to n in the order of tram's movement. At the i-th stop ai passengers exit the tram, while bi passengers enter it. The tram is empty before it arrives at the first stop. Also, when the tram arrives at the last stop, all passengers exit so that it becomes empty.\n",
        "\n",
        "Your task is to calculate the tram's minimum capacity such that the number of people inside the tram at any time never exceeds this capacity. Note that at each stop all exiting passengers exit before any entering passenger enters the tram.\n",
        "\n",
        "**Input**\n",
        "\n",
        "The first line contains a single number n (2 ≤ n ≤ 1000) — the number of the tram's stops.\n",
        "\n",
        "Then n lines follow, each contains two integers ai and bi (0 ≤ ai, bi ≤ 1000) — the number of passengers that exits the tram at the i-th stop, and the number of passengers that enter the tram at the i-th stop. The stops are given from the first to the last stop in the order of tram's movement.\n",
        "\n",
        "The number of people who exit at a given stop does not exceed the total number of people in the tram immediately before it arrives at the stop. More formally, . This particularly means that a1 = 0.\n",
        "At the last stop, all the passengers exit the tram and it becomes empty. More formally, .\n",
        "No passenger will enter the train at the last stop. That is, bn = 0.\n",
        "\n",
        "**Output**\n",
        "\n",
        "Print a single integer denoting the minimum possible capacity of the tram (0 is allowed).\n",
        "\n"
      ],
      "metadata": {
        "id": "jqqYNSC6wPyb"
      }
    },
    {
      "cell_type": "code",
      "source": [
        "stop = int(input())\n",
        "passenger = []\n",
        "r = 0\n",
        "\n",
        "for i in range(stop):\n",
        "  ex, en = map(int, input().split())\n",
        "  remain = en - ex\n",
        "  total = remain + r\n",
        "  passenger.append(total)\n",
        "  r = total\n",
        "\n",
        "print(sorted(passenger)[-1])\n"
      ],
      "metadata": {
        "colab": {
          "base_uri": "https://localhost:8080/"
        },
        "id": "e97KpaWFviXO",
        "outputId": "24f955d5-8d8e-4f62-f824-8e658dd7225d"
      },
      "execution_count": null,
      "outputs": [
        {
          "output_type": "stream",
          "name": "stdout",
          "text": [
            "5\n",
            "0 73\n",
            "73 189\n",
            "189 766\n",
            "766 0\n",
            "0 0\n",
            "766\n"
          ]
        }
      ]
    },
    {
      "cell_type": "markdown",
      "source": [
        "# **Queue at the School**\n",
        "\n",
        "During the break the schoolchildren, boys and girls, formed a queue of n people in the canteen. Initially the children stood in the order they entered the canteen. However, after a while the boys started feeling awkward for standing in front of the girls in the queue and they started letting the girls move forward each second.\n",
        "\n",
        "Let's describe the process more precisely. Let's say that the positions in the queue are sequentially numbered by integers from 1 to n, at that the person in the position number 1 is served first. Then, if at time x a boy stands on the i-th position and a girl stands on the (i + 1)-th position, then at time x + 1 the i-th position will have a girl and the (i + 1)-th position will have a boy. The time is given in seconds.\n",
        "\n",
        "You've got the initial position of the children, at the initial moment of time. Determine the way the queue is going to look after t seconds.\n",
        "\n",
        "**Input**\n",
        "\n",
        "The first line contains two integers n and t (1 ≤ n, t ≤ 50), which represent the number of children in the queue and the time after which the queue will transform into the arrangement you need to find.\n",
        "\n",
        "The next line contains string s, which represents the schoolchildren's initial arrangement. If the i-th position in the queue contains a boy, then the i-th character of string s equals \"B\", otherwise the i-th character equals \"G\".\n",
        "\n",
        "**Output**\n",
        "\n",
        "Print string a, which describes the arrangement after t seconds. If the i-th position has a boy after the needed time, then the i-th character a must equal \"B\", otherwise it must equal \"G\".\n",
        "\n"
      ],
      "metadata": {
        "id": "Z_ux3p-c_ItU"
      }
    },
    {
      "cell_type": "code",
      "source": [
        "n, t = map(int, input().split())\n",
        "s = input()\n",
        "\n",
        "for i in range(t):\n",
        "  if \"BG\" in s:\n",
        "    s = s.replace(\"BG\", \"GB\")\n",
        "\n",
        "print(s)"
      ],
      "metadata": {
        "colab": {
          "base_uri": "https://localhost:8080/"
        },
        "id": "-zVbRIxy_Pp4",
        "outputId": "b4d73ee1-f70c-4cf7-a95d-c13bc59104a0"
      },
      "execution_count": null,
      "outputs": [
        {
          "output_type": "stream",
          "name": "stdout",
          "text": [
            "5 1\n",
            "BGGBG\n",
            "GBGGB\n"
          ]
        }
      ]
    },
    {
      "cell_type": "markdown",
      "source": [
        "# **Anton and Danik**\n",
        "\n",
        "Anton likes to play chess, and so does his friend Danik.\n",
        "\n",
        "Once they have played n games in a row. For each game it's known who was the winner — Anton or Danik. None of the games ended with a tie.\n",
        "\n",
        "Now Anton wonders, who won more games, he or Danik? Help him determine this.\n",
        "\n",
        "**Input**\n",
        "\n",
        "The first line of the input contains a single integer n (1 ≤ n ≤ 100 000) — the number of games played.\n",
        "\n",
        "The second line contains a string s, consisting of n uppercase English letters 'A' and 'D' — the outcome of each of the games. The i-th character of the string is equal to 'A' if the Anton won the i-th game and 'D' if Danik won the i-th game.\n",
        "\n",
        "**Output**\n",
        "\n",
        "If Anton won more games than Danik, print \"Anton\" (without quotes) in the only line of the output.\n",
        "\n",
        "If Danik won more games than Anton, print \"Danik\" (without quotes) in the only line of the output.\n",
        "\n",
        "If Anton and Danik won the same number of games, print \"Friendship\" (without quotes).\n",
        "\n"
      ],
      "metadata": {
        "id": "0wmIouEOS9Lg"
      }
    },
    {
      "cell_type": "code",
      "source": [
        "n = int(input())\n",
        "s = input().upper()\n",
        "a = 0\n",
        "d = 0\n",
        "\n",
        "for i in s:\n",
        "  if i == \"A\":\n",
        "    a += 1\n",
        "  elif i == \"D\":\n",
        "    d += 1\n",
        "\n",
        "if a > d:\n",
        "  print(\"Anton\")\n",
        "elif a < d:\n",
        "  print(\"Danik\")\n",
        "else:\n",
        "  print(\"Friendship\")"
      ],
      "metadata": {
        "colab": {
          "base_uri": "https://localhost:8080/"
        },
        "id": "Sbgc91bcTF5O",
        "outputId": "600aedaf-c4a4-4d86-a762-67e137a7c493"
      },
      "execution_count": null,
      "outputs": [
        {
          "output_type": "stream",
          "name": "stdout",
          "text": [
            "6\n",
            "DADADA\n",
            "Friendship\n"
          ]
        }
      ]
    },
    {
      "cell_type": "markdown",
      "source": [
        "# **Translation**\n",
        "\n",
        "The translation from the Berland language into the Birland language is not an easy task. Those languages are very similar: a berlandish word differs from a birlandish word with the same meaning a little: it is spelled (and pronounced) reversely. For example, a Berlandish word code corresponds to a Birlandish word edoc. However, it's easy to make a mistake during the «translation». Vasya translated word s from Berlandish into Birlandish as t. Help him: find out if he translated the word correctly.\n",
        "\n",
        "**Input**\n",
        "\n",
        "The first line contains word s, the second line contains word t. The words consist of lowercase Latin letters. The input data do not consist unnecessary spaces. The words are not empty and their lengths do not exceed 100 symbols.\n",
        "\n",
        "**Output**\n",
        "\n",
        "If the word t is a word s, written reversely, print YES, otherwise print NO.\n",
        "\n"
      ],
      "metadata": {
        "id": "XyzG3HlSUL_f"
      }
    },
    {
      "cell_type": "code",
      "source": [
        "s = input()\n",
        "t = input()\n",
        "r = \"\"\n",
        "\n",
        "for i in s:\n",
        "  r = i + r\n",
        "\n",
        "if r == t:\n",
        "  print(\"YES\")\n",
        "else:\n",
        "  print(\"NO\")\n",
        ""
      ],
      "metadata": {
        "colab": {
          "base_uri": "https://localhost:8080/"
        },
        "id": "j8TQJFELUbeF",
        "outputId": "71b91d4b-91ad-499f-98cd-ab211c346f18"
      },
      "execution_count": null,
      "outputs": [
        {
          "output_type": "stream",
          "name": "stdout",
          "text": [
            "abb\n",
            "aba\n",
            "NO\n"
          ]
        }
      ]
    },
    {
      "cell_type": "markdown",
      "source": [
        "# **Beautiful Year**\n",
        "\n",
        "It seems like the year of 2013 came only yesterday. Do you know a curious fact? The year of 2013 is the first year after the old 1987 with only distinct digits.\n",
        "\n",
        "Now you are suggested to solve the following problem: given a year number, find the minimum year number which is strictly larger than the given one and has only distinct digits.\n",
        "\n",
        "**Input**\n",
        "\n",
        "The single line contains integer y (1000 ≤ y ≤ 9000) — the year number.\n",
        "\n",
        "**Output**\n",
        "\n",
        "Print a single integer — the minimum year number that is strictly larger than y and all it's digits are distinct. It is guaranteed that the answer exists.\n",
        "\n",
        "\n",
        "\n",
        "\n"
      ],
      "metadata": {
        "id": "EfyVejEiXSCH"
      }
    },
    {
      "cell_type": "code",
      "source": [
        "year = int(input())\n",
        "by = None\n",
        "\n",
        "while True:\n",
        "  year += 1\n",
        "  y = \"\"\n",
        "\n",
        "  for i in str(year):\n",
        "    if i not in y:\n",
        "      y += i\n",
        "      by = y\n",
        "\n",
        "  if len(y) >= 4:\n",
        "    break\n",
        "\n",
        "print(by)\n"
      ],
      "metadata": {
        "colab": {
          "base_uri": "https://localhost:8080/"
        },
        "id": "EnvXbyLLac_3",
        "outputId": "c8639530-084f-4bd5-b024-cc2fa1e750c6"
      },
      "execution_count": null,
      "outputs": [
        {
          "output_type": "stream",
          "name": "stdout",
          "text": [
            "1987\n",
            "2013\n"
          ]
        }
      ]
    },
    {
      "cell_type": "markdown",
      "source": [
        "# **Vanya and Fence**\n",
        "\n",
        "Vanya and his friends are walking along the fence of height h and they do not want the guard to notice them. In order to achieve this the height of each of the friends should not exceed h. If the height of some person is greater than h he can bend down and then he surely won't be noticed by the guard. The height of the i-th person is equal to ai.\n",
        "\n",
        "Consider the width of the person walking as usual to be equal to 1, while the width of the bent person is equal to 2. Friends want to talk to each other while walking, so they would like to walk in a single row. What is the minimum width of the road, such that friends can walk in a row and remain unattended by the guard?\n",
        "\n",
        "**Input**\n",
        "\n",
        "The first line of the input contains two integers n and h (1 ≤ n ≤ 1000, 1 ≤ h ≤ 1000) — the number of friends and the height of the fence, respectively.\n",
        "\n",
        "The second line contains n integers ai (1 ≤ ai ≤ 2h), the i-th of them is equal to the height of the i-th person.\n",
        "\n",
        "**Output**\n",
        "\n",
        "Print a single integer — the minimum possible valid width of the road.\n",
        "\n"
      ],
      "metadata": {
        "id": "J_9kJdBKH5NN"
      }
    },
    {
      "cell_type": "code",
      "source": [
        "n, h = map(int, input().split())\n",
        "friends = list(map(int, input().split()))\n",
        "width = 0\n",
        "\n",
        "for i in friends:\n",
        "  if i > h:\n",
        "    width += 2\n",
        "  else:\n",
        "    width += 1\n",
        "\n",
        "print(width)\n"
      ],
      "metadata": {
        "colab": {
          "base_uri": "https://localhost:8080/"
        },
        "id": "Gn1mft5XICMe",
        "outputId": "31332747-7846-4578-c80b-3415d3c9abf2"
      },
      "execution_count": null,
      "outputs": [
        {
          "output_type": "stream",
          "name": "stdout",
          "text": [
            "6 5\n",
            "7 6 8 9 10 5\n",
            "11\n"
          ]
        }
      ]
    },
    {
      "cell_type": "markdown",
      "source": [
        "# **George and Accommodation**\n",
        "\n",
        "George has recently entered the BSUCP (Berland State University for Cool Programmers). George has a friend Alex who has also entered the university. Now they are moving into a dormitory.\n",
        "\n",
        "George and Alex want to live in the same room. The dormitory has n rooms in total. At the moment the i-th room has pi people living in it and the room can accommodate qi people in total (pi ≤ qi). Your task is to count how many rooms has free place for both George and Alex.\n",
        "\n",
        "**Input**\n",
        "\n",
        "The first line contains a single integer n (1 ≤ n ≤ 100) — the number of rooms.\n",
        "\n",
        "The i-th of the next n lines contains two integers pi and qi (0 ≤ pi ≤ qi ≤ 100) — the number of people who already live in the i-th room and the room's capacity.\n",
        "\n",
        "**Output**\n",
        "\n",
        "Print a single integer — the number of rooms where George and Alex can move in.\n",
        "\n"
      ],
      "metadata": {
        "id": "-0lMSZeUJ7TR"
      }
    },
    {
      "cell_type": "code",
      "source": [
        "n = int(input())\n",
        "count = 0\n",
        "\n",
        "for i in range(n):\n",
        "  p, q = map(int, input().split())\n",
        "  if p + 2 <= q:\n",
        "    count += 1\n",
        "\n",
        "print(count)\n"
      ],
      "metadata": {
        "colab": {
          "base_uri": "https://localhost:8080/"
        },
        "id": "oOFLp8SjKBnb",
        "outputId": "bacfdd4b-c429-4a44-a404-1dcd2c1af0a1"
      },
      "execution_count": null,
      "outputs": [
        {
          "output_type": "stream",
          "name": "stdout",
          "text": [
            "3\n",
            "8 10\n",
            "9 10\n",
            "7 10\n",
            "2\n"
          ]
        }
      ]
    },
    {
      "cell_type": "markdown",
      "source": [
        "# **In Search of an Easy Problem**\n",
        "\n",
        "When preparing a tournament, Codeforces coordinators try treir best to make the first problem as easy as possible. This time the coordinator had chosen some problem and asked n people about their opinions. Each person answered whether this problem is easy or hard.\n",
        "\n",
        "If at least one of these n people has answered that the problem is hard, the coordinator decides to change the problem. For the given responses, check if the problem is easy enough.\n",
        "\n",
        "**Input**\n",
        "\n",
        "The first line contains a single integer n (1≤n≤100) — the number of people who were asked to give their opinions.\n",
        "\n",
        "The second line contains n integers, each integer is either 0 or 1. If i-th integer is 0, then i-th person thinks that the problem is easy; if it is 1, then i-th person thinks that the problem is hard.\n",
        "\n",
        "**Output**\n",
        "\n",
        "Print one word: \"EASY\" if the problem is easy according to all responses, or \"HARD\" if there is at least one person who thinks the problem is hard.\n",
        "\n",
        "You may print every letter in any register: \"EASY\", \"easy\", \"EaSY\" and \"eAsY\" all will be processed correctly.\n",
        "\n"
      ],
      "metadata": {
        "id": "IGtJvuCnLi0M"
      }
    },
    {
      "cell_type": "code",
      "source": [
        "n = int(input())\n",
        "a = list(map(int, input().split()))\n",
        "count = 0\n",
        "\n",
        "for i in a:\n",
        "  if i == 1:\n",
        "    count += 1\n",
        "\n",
        "if count >= 1:\n",
        "  print(\"HARD\")\n",
        "else:\n",
        "  print(\"EASY\")\n"
      ],
      "metadata": {
        "colab": {
          "base_uri": "https://localhost:8080/"
        },
        "id": "-GqdH4A_LoyQ",
        "outputId": "f2521f69-4a1f-4540-d3fa-f5210965c75e"
      },
      "execution_count": null,
      "outputs": [
        {
          "output_type": "stream",
          "name": "stdout",
          "text": [
            "3\n",
            "1 0 0\n",
            "HARD\n"
          ]
        }
      ]
    },
    {
      "cell_type": "markdown",
      "source": [
        "# **Presents**\n",
        "\n",
        "Little Petya very much likes gifts. Recently he has received a new laptop as a New Year gift from his mother. He immediately decided to give it to somebody else as what can be more pleasant than giving somebody gifts. And on this occasion he organized a New Year party at his place and invited n his friends there.\n",
        "\n",
        "If there's one thing Petya likes more that receiving gifts, that's watching others giving gifts to somebody else. Thus, he safely hid the laptop until the next New Year and made up his mind to watch his friends exchanging gifts while he does not participate in the process. He numbered all his friends with integers from 1 to n. Petya remembered that a friend number i gave a gift to a friend number pi. He also remembered that each of his friends received exactly one gift.\n",
        "\n",
        "Now Petya wants to know for each friend i the number of a friend who has given him a gift.\n",
        "\n",
        "**Input**\n",
        "\n",
        "The first line contains one integer n (1 ≤ n ≤ 100) — the quantity of friends Petya invited to the party. The second line contains n space-separated integers: the i-th number is pi — the number of a friend who gave a gift to friend number i. It is guaranteed that each friend received exactly one gift. It is possible that some friends do not share Petya's ideas of giving gifts to somebody else. Those friends gave the gifts to themselves.\n",
        "\n",
        "**Output**\n",
        "\n",
        "Print n space-separated integers: the i-th number should equal the number of the friend who gave a gift to friend number i."
      ],
      "metadata": {
        "id": "aGyXwWjJNNYc"
      }
    },
    {
      "cell_type": "code",
      "source": [
        "n = int(input())\n",
        "f = list(map(int, input().split()))\n",
        "p = []\n",
        "\n",
        "for i in f:\n",
        "  p.append(i)\n",
        "\n",
        "for i in f:\n",
        "  j = f.index(i)\n",
        "  p[i - 1] = str(j + 1)\n",
        "\n",
        "\n",
        "print(\" \".join(p))\n"
      ],
      "metadata": {
        "colab": {
          "base_uri": "https://localhost:8080/"
        },
        "id": "UBxh3jFTNSyc",
        "outputId": "262e943f-c278-411f-c76a-f989f0b76115"
      },
      "execution_count": null,
      "outputs": [
        {
          "output_type": "stream",
          "name": "stdout",
          "text": [
            "2\n",
            "1 2\n",
            "1 2\n"
          ]
        }
      ]
    },
    {
      "cell_type": "markdown",
      "source": [
        "# **Magnets**\n",
        "\n",
        "Mad scientist Mike entertains himself by arranging rows of dominoes. He doesn't need dominoes, though: he uses rectangular magnets instead. Each magnet has two poles, positive (a \"plus\") and negative (a \"minus\"). If two magnets are put together at a close distance, then the like poles will repel each other and the opposite poles will attract each other.\n",
        "\n",
        "Mike starts by laying one magnet horizontally on the table. During each following step Mike adds one more magnet horizontally to the right end of the row. Depending on how Mike puts the magnet on the table, it is either attracted to the previous one (forming a group of multiple magnets linked together) or repelled by it (then Mike lays this magnet at some distance to the right from the previous one). We assume that a sole magnet not linked to others forms a group of its own.\n",
        "\n",
        "\n",
        "Mike arranged multiple magnets in a row. Determine the number of groups that the magnets formed.\n",
        "\n",
        "**Input**\n",
        "\n",
        "The first line of the input contains an integer n (1 ≤ n ≤ 100000) — the number of magnets. Then n lines follow. The i-th line (1 ≤ i ≤ n) contains either characters \"01\", if Mike put the i-th magnet in the \"plus-minus\" position, or characters \"10\", if Mike put the magnet in the \"minus-plus\" position.\n",
        "\n",
        "**Output**\n",
        "\n",
        "On the single line of the output print the number of groups of magnets.\n",
        "\n"
      ],
      "metadata": {
        "id": "IERkE1iwHIKI"
      }
    },
    {
      "cell_type": "code",
      "source": [
        "n = int(input())\n",
        "num = []\n",
        "group = 1\n",
        "count = 0\n",
        "\n",
        "while True:\n",
        "  i = input()\n",
        "  num.append(i)\n",
        "  count += 1\n",
        "  if count >= n:\n",
        "    break\n",
        "\n",
        "for i in range(len(num) - 1):\n",
        "  if num[i] != num[i+1]:\n",
        "    group += 1\n",
        "\n",
        "print(group)\n"
      ],
      "metadata": {
        "colab": {
          "base_uri": "https://localhost:8080/"
        },
        "id": "lJUcH7YbHNGh",
        "outputId": "5afab1a7-576c-408c-c463-0acdbe5aecc1"
      },
      "execution_count": null,
      "outputs": [
        {
          "output_type": "stream",
          "name": "stdout",
          "text": [
            "4\n",
            "01\n",
            "01\n",
            "10\n",
            "10\n",
            "2\n"
          ]
        }
      ]
    },
    {
      "cell_type": "markdown",
      "source": [
        "# **Calculating Function**\n",
        "\n",
        "For a positive integer n let's define a function f:\n",
        "\n",
        "f(n) =  - 1 + 2 - 3 + .. + ( - 1)nn\n",
        "\n",
        "Your task is to calculate f(n) for a given integer n.\n",
        "\n",
        "**Input**\n",
        "\n",
        "The single line contains the positive integer n (1 ≤ n ≤ 1015).\n",
        "\n",
        "**Output**\n",
        "\n",
        "Print f(n) in a single line.\n",
        "\n"
      ],
      "metadata": {
        "id": "OEj3nkluXy99"
      }
    },
    {
      "cell_type": "code",
      "source": [
        "n = int(input())\n",
        "pos = 0\n",
        "neg = 0\n",
        "\n",
        "for i in range(1, n+1):\n",
        "  if i % 2 == 0:\n",
        "    pos += i\n",
        "  else:\n",
        "    neg -= i\n",
        "\n",
        "print(pos + neg)\n"
      ],
      "metadata": {
        "colab": {
          "base_uri": "https://localhost:8080/"
        },
        "id": "R8-8cmghXyr4",
        "outputId": "cafec2cf-2529-4496-9df6-845dd9cf16e9"
      },
      "execution_count": null,
      "outputs": [
        {
          "output_type": "stream",
          "name": "stdout",
          "text": [
            "5\n",
            "-3\n"
          ]
        }
      ]
    }
  ]
}