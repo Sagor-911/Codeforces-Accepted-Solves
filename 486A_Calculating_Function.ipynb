{
  "nbformat": 4,
  "nbformat_minor": 0,
  "metadata": {
    "colab": {
      "provenance": []
    },
    "kernelspec": {
      "name": "python3",
      "display_name": "Python 3"
    },
    "language_info": {
      "name": "python"
    }
  },
  "cells": [
    {
      "cell_type": "markdown",
      "source": [
        "For a positive integer n let's define a function f:\n",
        "\n",
        "f(n) =  - 1 + 2 - 3 + .. + ( - 1)^n n\n",
        "\n",
        "Your task is to calculate f(n) for a given integer n.\n",
        "\n",
        "**Input**\n",
        "\n",
        "The single line contains the positive integer n (1 ≤ n ≤ 1015).\n",
        "\n",
        "**Output**\n",
        "\n",
        "Print f(n) in a single line."
      ],
      "metadata": {
        "id": "jjlvaXHtSpQf"
      }
    },
    {
      "cell_type": "code",
      "execution_count": 24,
      "metadata": {
        "colab": {
          "base_uri": "https://localhost:8080/"
        },
        "id": "KyF9jjNvSiNb",
        "outputId": "2dbf5a88-dd57-4e28-ae13-978e55e31152"
      },
      "outputs": [
        {
          "output_type": "stream",
          "name": "stdout",
          "text": [
            "7\n",
            "-4\n"
          ]
        }
      ],
      "source": [
        "n = int(input())\n",
        "\n",
        "if n % 2 == 0:\n",
        "  print(n//2)\n",
        "else:\n",
        "  print(-(n//2)-1)"
      ]
    }
  ]
}