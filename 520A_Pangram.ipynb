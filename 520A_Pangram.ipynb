{
  "nbformat": 4,
  "nbformat_minor": 0,
  "metadata": {
    "colab": {
      "provenance": []
    },
    "kernelspec": {
      "name": "python3",
      "display_name": "Python 3"
    },
    "language_info": {
      "name": "python"
    }
  },
  "cells": [
    {
      "cell_type": "markdown",
      "source": [
        "A word or a sentence in some language is called a pangram if all the characters of the alphabet of this language appear in it at least once. Pangrams are often used to demonstrate fonts in printing or test the output devices.\n",
        "\n",
        "You are given a string consisting of lowercase and uppercase Latin letters. Check whether this string is a pangram. We say that the string contains a letter of the Latin alphabet if this letter occurs in the string in uppercase or lowercase.\n",
        "\n",
        "**Input**\n",
        "\n",
        "The first line contains a single integer n (1 ≤ n ≤ 100) — the number of characters in the string.\n",
        "\n",
        "The second line contains the string. The string consists only of uppercase and lowercase Latin letters.\n",
        "\n",
        "**Output**\n",
        "\n",
        "Output \"YES\", if the string is a pangram and \"NO\" otherwise."
      ],
      "metadata": {
        "id": "jjlvaXHtSpQf"
      }
    },
    {
      "cell_type": "code",
      "execution_count": 25,
      "metadata": {
        "colab": {
          "base_uri": "https://localhost:8080/"
        },
        "id": "KyF9jjNvSiNb",
        "outputId": "7b54e7c2-bb35-4d02-9b6b-ba025f21d7a0"
      },
      "outputs": [
        {
          "output_type": "stream",
          "name": "stdout",
          "text": [
            "35\n",
            "TheQuickBrownFoxJumpsOverTheLazyDog\n",
            "YES\n"
          ]
        }
      ],
      "source": [
        "n = int(input())\n",
        "sentence = set(input().upper())\n",
        "\n",
        "if len(sentence) == 26:\n",
        "  print(\"YES\")\n",
        "else:\n",
        "  print(\"NO\")\n"
      ]
    }
  ]
}