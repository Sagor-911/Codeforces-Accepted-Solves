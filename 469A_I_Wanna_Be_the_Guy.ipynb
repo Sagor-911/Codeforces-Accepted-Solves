{
  "nbformat": 4,
  "nbformat_minor": 0,
  "metadata": {
    "colab": {
      "provenance": []
    },
    "kernelspec": {
      "name": "python3",
      "display_name": "Python 3"
    },
    "language_info": {
      "name": "python"
    }
  },
  "cells": [
    {
      "cell_type": "markdown",
      "source": [
        "There is a game called \"I Wanna Be the Guy\", consisting of n levels. Little X and his friend Little Y are addicted to the game. Each of them wants to pass the whole game.\n",
        "\n",
        "Little X can pass only p levels of the game. And Little Y can pass only q levels of the game. You are given the indices of levels Little X can pass and the indices of levels Little Y can pass. Will Little X and Little Y pass the whole game, if they cooperate each other?\n",
        "\n",
        "**Input**\n",
        "\n",
        "The first line contains a single integer n (1 ≤  n ≤ 100).\n",
        "\n",
        "The next line contains an integer p (0 ≤ p ≤ n) at first, then follows p distinct integers a1, a2, ..., ap (1 ≤ ai ≤ n). These integers denote the indices of levels Little X can pass. The next line contains the levels Little Y can pass in the same format. It's assumed that levels are numbered from 1 to n.\n",
        "\n",
        "**Output**\n",
        "\n",
        "If they can pass all the levels, print \"I become the guy.\". If it's impossible, print \"Oh, my keyboard!\" (without the quotes)."
      ],
      "metadata": {
        "id": "jjlvaXHtSpQf"
      }
    },
    {
      "cell_type": "code",
      "execution_count": 19,
      "metadata": {
        "colab": {
          "base_uri": "https://localhost:8080/"
        },
        "id": "KyF9jjNvSiNb",
        "outputId": "2b15a836-2005-44f6-c11c-b27aa3add591"
      },
      "outputs": [
        {
          "output_type": "stream",
          "name": "stdout",
          "text": [
            "4\n",
            "3 1 2 3\n",
            "2 2 3\n",
            "Oh, my keyboard!\n"
          ]
        }
      ],
      "source": [
        "n = int(input())\n",
        "x = list(map(int, input().split()))[1:]\n",
        "y = list(map(int, input().split()))[1:]\n",
        "\n",
        "final = len(set(x + y))\n",
        "\n",
        "if final == n:\n",
        "  print(\"I become the guy.\")\n",
        "else:\n",
        "  print(\"Oh, my keyboard!\")\n",
        "\n"
      ]
    }
  ]
}