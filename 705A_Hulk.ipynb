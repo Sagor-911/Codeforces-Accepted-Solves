{
  "nbformat": 4,
  "nbformat_minor": 0,
  "metadata": {
    "colab": {
      "provenance": []
    },
    "kernelspec": {
      "name": "python3",
      "display_name": "Python 3"
    },
    "language_info": {
      "name": "python"
    }
  },
  "cells": [
    {
      "cell_type": "markdown",
      "source": [
        "Dr. Bruce Banner hates his enemies (like others don't). As we all know, he can barely talk when he turns into the incredible Hulk. That's why he asked you to help him to express his feelings.\n",
        "\n",
        "Hulk likes the Inception so much, and like that his feelings are complicated. They have n layers. The first layer is hate, second one is love, third one is hate and so on...\n",
        "\n",
        "For example if n = 1, then his feeling is \"I hate it\" or if n = 2 it's \"I hate that I love it\", and if n = 3 it's \"I hate that I love that I hate it\" and so on.\n",
        "\n",
        "Please help Dr. Banner.\n",
        "\n",
        "**Input**\n",
        "\n",
        "The only line of the input contains a single integer n (1 ≤ n ≤ 100) — the number of layers of love and hate.\n",
        "\n",
        "**Output**\n",
        "\n",
        "Print Dr.Banner's feeling in one line."
      ],
      "metadata": {
        "id": "jjlvaXHtSpQf"
      }
    },
    {
      "cell_type": "code",
      "execution_count": 10,
      "metadata": {
        "colab": {
          "base_uri": "https://localhost:8080/"
        },
        "id": "KyF9jjNvSiNb",
        "outputId": "efae5678-0dfc-49e6-964a-4181fede5141"
      },
      "outputs": [
        {
          "output_type": "stream",
          "name": "stdout",
          "text": [
            "2\n",
            "I hate that I love it \n"
          ]
        }
      ],
      "source": [
        "n = int(input())\n",
        "hulk = \"\"\n",
        "\n",
        "def similar(idx):\n",
        "  if idx == n-1:\n",
        "    return \" it\"\n",
        "  else:\n",
        "    return \" that\"\n",
        "\n",
        "for i in range(n):\n",
        "  if i % 2 == 0:\n",
        "    hulk += \"I hate\" + similar(i)\n",
        "  else:\n",
        "    hulk += \"I love\" + similar(i)\n",
        "  hulk += \" \"\n",
        "\n",
        "print(hulk)"
      ]
    }
  ]
}