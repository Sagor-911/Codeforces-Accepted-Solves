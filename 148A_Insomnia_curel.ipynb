{
  "nbformat": 4,
  "nbformat_minor": 0,
  "metadata": {
    "colab": {
      "provenance": []
    },
    "kernelspec": {
      "name": "python3",
      "display_name": "Python 3"
    },
    "language_info": {
      "name": "python"
    }
  },
  "cells": [
    {
      "cell_type": "markdown",
      "source": [
        "«One dragon. Two dragon. Three dragon», — the princess was counting. She had trouble falling asleep, and she got bored of counting lambs when she was nine.\n",
        "\n",
        "However, just counting dragons was boring as well, so she entertained herself at best she could. Tonight she imagined that all dragons were here to steal her, and she was fighting them off. Every k-th dragon got punched in the face with a frying pan. Every l-th dragon got his tail shut into the balcony door. Every m-th dragon got his paws trampled with sharp heels. Finally, she threatened every n-th dragon to call her mom, and he withdrew in panic.\n",
        "\n",
        "How many imaginary dragons suffered moral or physical damage tonight, if the princess counted a total of d dragons?\n",
        "\n",
        "**Input**\n",
        "\n",
        "Input data contains integer numbers k, l, m, n and d, each number in a separate line (1 ≤ k, l, m, n ≤ 10, 1 ≤ d ≤ 105).\n",
        "\n",
        "**Output**\n",
        "\n",
        "Output the number of damaged dragons."
      ],
      "metadata": {
        "id": "jjlvaXHtSpQf"
      }
    },
    {
      "cell_type": "code",
      "execution_count": 9,
      "metadata": {
        "colab": {
          "base_uri": "https://localhost:8080/"
        },
        "id": "KyF9jjNvSiNb",
        "outputId": "7471e640-f67f-4f1b-9f04-b3a250305512"
      },
      "outputs": [
        {
          "output_type": "stream",
          "name": "stdout",
          "text": [
            "2\n",
            "3\n",
            "4\n",
            "5\n",
            "24\n",
            "17\n"
          ]
        }
      ],
      "source": [
        "k = int(input())\n",
        "l = int(input())\n",
        "m = int(input())\n",
        "n = int(input())\n",
        "d = int(input())\n",
        "\n",
        "temp = [k, l, m, n]\n",
        "count = []\n",
        "for j in temp:\n",
        "  for i in range(d):\n",
        "    if (j + i*j) <= d and (j + i*j) not in count:\n",
        "      count.append(j + i*j)\n",
        "\n",
        "print(len(count))"
      ]
    },
    {
      "cell_type": "code",
      "source": [
        "k = int(input())\n",
        "l = int(input())\n",
        "m = int(input())\n",
        "n = int(input())\n",
        "d = int(input())\n",
        "count = 0\n",
        "\n",
        "for i in range(1, d+1):\n",
        "  if (i%k== 0 or i%l== 0 or i%m== 0 or i%n== 0):\n",
        "    count += 1\n",
        "\n",
        "print(count)"
      ],
      "metadata": {
        "colab": {
          "base_uri": "https://localhost:8080/"
        },
        "id": "-ekRmHWnfLxQ",
        "outputId": "b2e615d3-d908-4fea-b03a-47ee0c00380e"
      },
      "execution_count": 14,
      "outputs": [
        {
          "output_type": "stream",
          "name": "stdout",
          "text": [
            "1\n",
            "1\n",
            "1\n",
            "1\n",
            "100000\n",
            "100000\n"
          ]
        }
      ]
    }
  ]
}