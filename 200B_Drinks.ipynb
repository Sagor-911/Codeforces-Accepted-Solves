{
  "nbformat": 4,
  "nbformat_minor": 0,
  "metadata": {
    "colab": {
      "provenance": []
    },
    "kernelspec": {
      "name": "python3",
      "display_name": "Python 3"
    },
    "language_info": {
      "name": "python"
    }
  },
  "cells": [
    {
      "cell_type": "markdown",
      "source": [
        "Little Vasya loves orange juice very much. That's why any food and drink in his kitchen necessarily contains orange juice. There are n drinks in his fridge, the volume fraction of orange juice in the i-th drink equals pi percent.\n",
        "\n",
        "\n",
        "One day Vasya decided to make himself an orange cocktail. He took equal proportions of each of the n drinks and mixed them. Then he wondered, how much orange juice the cocktail has.\n",
        "\n",
        "\n",
        "Find the volume fraction of orange juice in the final drink.\n",
        "\n",
        "\n",
        "**Input**\n",
        "\n",
        "The first input line contains a single integer n (1≤n≤100) — the number of orange-containing drinks in Vasya's fridge. The second line contains n integers pi (0≤pi≤100) — the volume fraction of orange juice in the i-th drink, in percent. The numbers are separated by a space.\n",
        "\n",
        "**Output**\n",
        "\n",
        "Print the volume fraction in percent of orange juice in Vasya's cocktail. The answer will be considered correct if the absolute or relative error does not exceed 10^-4.\n",
        "\n"
      ],
      "metadata": {
        "id": "jjlvaXHtSpQf"
      }
    },
    {
      "cell_type": "code",
      "execution_count": 2,
      "metadata": {
        "colab": {
          "base_uri": "https://localhost:8080/"
        },
        "id": "KyF9jjNvSiNb",
        "outputId": "590523fe-4d86-4fe3-bfec-9108b146e736"
      },
      "outputs": [
        {
          "output_type": "stream",
          "name": "stdout",
          "text": [
            "4\n",
            "0 25 50 75\n",
            "37.5\n"
          ]
        }
      ],
      "source": [
        "n = int(input())\n",
        "pi = list(map(int, input().split()))\n",
        "\n",
        "print(sum(pi)/n)\n"
      ]
    }
  ]
}